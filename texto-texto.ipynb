{
 "cells": [
  {
   "cell_type": "code",
   "execution_count": 36,
   "id": "c15e15b7-48d1-4d52-aede-4e02dd93a649",
   "metadata": {},
   "outputs": [
    {
     "name": "stdout",
     "output_type": "stream",
     "text": [
      "Requirement already satisfied: openai in c:\\users\\ginolz\\anaconda3\\lib\\site-packages (0.28.0)\n",
      "Requirement already satisfied: matplotlib in c:\\users\\ginolz\\anaconda3\\lib\\site-packages (3.8.4)\n",
      "Requirement already satisfied: requests>=2.20 in c:\\users\\ginolz\\anaconda3\\lib\\site-packages (from openai) (2.32.2)\n",
      "Requirement already satisfied: tqdm in c:\\users\\ginolz\\anaconda3\\lib\\site-packages (from openai) (4.66.4)\n",
      "Requirement already satisfied: aiohttp in c:\\users\\ginolz\\anaconda3\\lib\\site-packages (from openai) (3.9.5)\n",
      "Requirement already satisfied: contourpy>=1.0.1 in c:\\users\\ginolz\\anaconda3\\lib\\site-packages (from matplotlib) (1.2.0)\n",
      "Requirement already satisfied: cycler>=0.10 in c:\\users\\ginolz\\anaconda3\\lib\\site-packages (from matplotlib) (0.11.0)\n",
      "Requirement already satisfied: fonttools>=4.22.0 in c:\\users\\ginolz\\anaconda3\\lib\\site-packages (from matplotlib) (4.51.0)\n",
      "Requirement already satisfied: kiwisolver>=1.3.1 in c:\\users\\ginolz\\anaconda3\\lib\\site-packages (from matplotlib) (1.4.4)\n",
      "Requirement already satisfied: numpy>=1.21 in c:\\users\\ginolz\\anaconda3\\lib\\site-packages (from matplotlib) (1.26.4)\n",
      "Requirement already satisfied: packaging>=20.0 in c:\\users\\ginolz\\anaconda3\\lib\\site-packages (from matplotlib) (23.2)\n",
      "Requirement already satisfied: pillow>=8 in c:\\users\\ginolz\\anaconda3\\lib\\site-packages (from matplotlib) (10.3.0)\n",
      "Requirement already satisfied: pyparsing>=2.3.1 in c:\\users\\ginolz\\anaconda3\\lib\\site-packages (from matplotlib) (3.0.9)\n",
      "Requirement already satisfied: python-dateutil>=2.7 in c:\\users\\ginolz\\anaconda3\\lib\\site-packages (from matplotlib) (2.9.0.post0)\n",
      "Requirement already satisfied: six>=1.5 in c:\\users\\ginolz\\anaconda3\\lib\\site-packages (from python-dateutil>=2.7->matplotlib) (1.16.0)\n",
      "Requirement already satisfied: charset-normalizer<4,>=2 in c:\\users\\ginolz\\anaconda3\\lib\\site-packages (from requests>=2.20->openai) (2.0.4)\n",
      "Requirement already satisfied: idna<4,>=2.5 in c:\\users\\ginolz\\anaconda3\\lib\\site-packages (from requests>=2.20->openai) (3.7)\n",
      "Requirement already satisfied: urllib3<3,>=1.21.1 in c:\\users\\ginolz\\anaconda3\\lib\\site-packages (from requests>=2.20->openai) (2.2.2)\n",
      "Requirement already satisfied: certifi>=2017.4.17 in c:\\users\\ginolz\\anaconda3\\lib\\site-packages (from requests>=2.20->openai) (2024.7.4)\n",
      "Requirement already satisfied: aiosignal>=1.1.2 in c:\\users\\ginolz\\anaconda3\\lib\\site-packages (from aiohttp->openai) (1.2.0)\n",
      "Requirement already satisfied: attrs>=17.3.0 in c:\\users\\ginolz\\anaconda3\\lib\\site-packages (from aiohttp->openai) (23.1.0)\n",
      "Requirement already satisfied: frozenlist>=1.1.1 in c:\\users\\ginolz\\anaconda3\\lib\\site-packages (from aiohttp->openai) (1.4.0)\n",
      "Requirement already satisfied: multidict<7.0,>=4.5 in c:\\users\\ginolz\\anaconda3\\lib\\site-packages (from aiohttp->openai) (6.0.4)\n",
      "Requirement already satisfied: yarl<2.0,>=1.0 in c:\\users\\ginolz\\anaconda3\\lib\\site-packages (from aiohttp->openai) (1.9.3)\n",
      "Requirement already satisfied: colorama in c:\\users\\ginolz\\anaconda3\\lib\\site-packages (from tqdm->openai) (0.4.6)\n"
     ]
    }
   ],
   "source": [
    "!pip install openai matplotlib\n",
    "\n",
    "import openai\n",
    "import matplotlib.pyplot as plt\n",
    "import PIL.Image as Image\n",
    "\n",
    "openai.api_key = 'XXXXXXXXXXXXXXXXXXXXXXXXXXXXXXXXXXXXXXXXXXXXXXXXXXXXXXXXXXX'  # Reemplaza 'TU_CLAVE_API_AQUI' con tu clave API real\n"
   ]
  },
  {
   "cell_type": "code",
   "execution_count": 38,
   "id": "830ba512-59e4-45bd-876f-97ef9568d2ff",
   "metadata": {},
   "outputs": [],
   "source": [
    "\n",
    "problema = \"Mejorar la calidad y personalización de las respuestas automáticas en el servicio al cliente.\"\n",
    "\n",
    "consulta_cliente = \"¿Cuál es el estado de mi pedido?\"\n",
    "\n",
    "\n",
    "# Zero Shot Prompting\n",
    "prompt_zero_shot = f\"Cliente: {consulta_cliente}\\nAI: Para poder verificar el estado de tu pedido, necesitaría que me proporciones el número de seguimiento o cualquier otro detalle que tengas sobre el pedido. ¿Puedes proporcionarme esa información?\"\n",
    "\n",
    "# One Shot Prompting\n",
    "prompt_one_shot = f\"\"\"Cliente: ¿Puedo saber las políticas de devolución?\n",
    "AI: Claro, puedes devolver los productos dentro de los 30 días de la compra.\n",
    "Cliente: {consulta_cliente}\n",
    "AI: Lo siento, pero como soy un asistente virtual, no tengo acceso a la información específica de tu pedido. Te recomiendo que contactes al servicio de atención al cliente de la tienda donde realizaste la compra para obtener detalles sobre tu pedido.\"\"\"\n",
    "\n",
    "# Few Shot Prompting\n",
    "prompt_few_shot = f\"\"\"Cliente: ¿Puedo saber las políticas de devolución?\n",
    "AI: Claro, puedes devolver los productos dentro de los 30 días de la compra.\n",
    "Cliente: ¿Cuál es el horario de atención al cliente?\n",
    "AI: Nuestro horario de atención es de 9 AM a 5 PM de lunes a viernes.\n",
    "Cliente: {consulta_cliente}\n",
    "AI: El tiempo de entrega puede variar dependiendo de tu ubicación y del método de envío seleccionado. ¿Podrías proporcionarme tu número de pedido para poder verificar el estado y darte una estimación más precisa?\"\"\"\n"
   ]
  },
  {
   "cell_type": "code",
   "execution_count": 40,
   "id": "0217b647-2559-4a89-948b-eed00744df6f",
   "metadata": {},
   "outputs": [],
   "source": [
    "def obtener_respuesta(prompt):\n",
    "    respuesta = openai.ChatCompletion.create(\n",
    "        model=\"gpt-3.5-turbo\",\n",
    "        messages=[\n",
    "            {\"role\": \"system\", \"content\": \"Eres un asistente útil.\"},\n",
    "            {\"role\": \"user\", \"content\": prompt}\n",
    "        ],\n",
    "        max_tokens=300  \n",
    "    )\n",
    "    return respuesta['choices'][0]['message']['content'].strip()\n",
    "\n"
   ]
  },
  {
   "cell_type": "code",
   "execution_count": 42,
   "id": "12e96e5f-5b11-4604-b14f-27305514f164",
   "metadata": {},
   "outputs": [
    {
     "name": "stdout",
     "output_type": "stream",
     "text": [
      "Zero Shot Response:\n",
      "Usuario: Gracias por ofrecerte a ayudar. El número de seguimiento de mi pedido es 123456789. ¿Puedes decirme cuál es el estado actual? \n",
      "IA: ¡Claro! Déjame verificarlo por ti. Voy a revisar el número de seguimiento 123456789 y te informaré sobre el estado actual del pedido en unos momentos. Por favor, espera un momento.\n",
      "\n",
      "One Shot Response:\n",
      "¡Hola! Veo que estás buscando información sobre devoluciones. ¿En qué puedo ayudarte con eso?\n",
      "\n",
      "Few Shot Response:\n",
      "Cliente: Sí, mi número de pedido es 123456789.\n",
      "AI: Gracias por proporcionar tu número de pedido. Déjame verificar el estado de tu pedido. Por favor, espera un momento.\n"
     ]
    }
   ],
   "source": [
    "respuesta_zero_shot = obtener_respuesta(prompt_zero_shot)\n",
    "respuesta_one_shot = obtener_respuesta(prompt_one_shot)\n",
    "respuesta_few_shot = obtener_respuesta(prompt_few_shot)\n",
    "\n",
    "print(\"Zero Shot Response:\")\n",
    "print(respuesta_zero_shot)\n",
    "print(\"\\nOne Shot Response:\")\n",
    "print(respuesta_one_shot)\n",
    "print(\"\\nFew Shot Response:\")\n",
    "print(respuesta_few_shot)\n"
   ]
  },
  {
   "cell_type": "code",
   "execution_count": null,
   "id": "31c0fb94-7b0f-4905-8d63-a4d15eeccc71",
   "metadata": {},
   "outputs": [],
   "source": []
  }
 ],
 "metadata": {
  "kernelspec": {
   "display_name": "Python 3 (ipykernel)",
   "language": "python",
   "name": "python3"
  },
  "language_info": {
   "codemirror_mode": {
    "name": "ipython",
    "version": 3
   },
   "file_extension": ".py",
   "mimetype": "text/x-python",
   "name": "python",
   "nbconvert_exporter": "python",
   "pygments_lexer": "ipython3",
   "version": "3.12.4"
  }
 },
 "nbformat": 4,
 "nbformat_minor": 5
}
